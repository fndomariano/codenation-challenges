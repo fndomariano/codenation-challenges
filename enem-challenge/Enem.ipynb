{
 "cells": [
  {
   "cell_type": "code",
   "execution_count": 52,
   "metadata": {},
   "outputs": [],
   "source": [
    "import pandas as pd\n",
    "import matplotlib.pyplot as plt \n",
    "import numpy as np\n",
    "import seaborn as sns\n",
    "from sklearn.preprocessing import StandardScaler\n",
    "from sklearn.pipeline import make_pipeline\n",
    "from sklearn import metrics\n",
    "%matplotlib inline"
   ]
  },
  {
   "cell_type": "code",
   "execution_count": 250,
   "metadata": {},
   "outputs": [],
   "source": [
    "base_train = pd.read_csv('train.csv')\n",
    "base_test = pd.read_csv('test.csv')\n",
    "base_answer = pd.read_csv('test.csv')"
   ]
  },
  {
   "cell_type": "code",
   "execution_count": 251,
   "metadata": {
    "scrolled": true
   },
   "outputs": [],
   "source": [
    "columns = [    \n",
    "    'NU_NOTA_CN',\n",
    "    'NU_NOTA_CH',\n",
    "    'NU_NOTA_LC',    \n",
    "    'NU_NOTA_REDACAO',\n",
    "    'NU_INSCRICAO',\n",
    "    'NU_NOTA_MT'\n",
    "]"
   ]
  },
  {
   "cell_type": "code",
   "execution_count": 252,
   "metadata": {},
   "outputs": [
    {
     "data": {
      "text/html": [
       "<div>\n",
       "<style scoped>\n",
       "    .dataframe tbody tr th:only-of-type {\n",
       "        vertical-align: middle;\n",
       "    }\n",
       "\n",
       "    .dataframe tbody tr th {\n",
       "        vertical-align: top;\n",
       "    }\n",
       "\n",
       "    .dataframe thead th {\n",
       "        text-align: right;\n",
       "    }\n",
       "</style>\n",
       "<table border=\"1\" class=\"dataframe\">\n",
       "  <thead>\n",
       "    <tr style=\"text-align: right;\">\n",
       "      <th></th>\n",
       "      <th>NU_NOTA_CN</th>\n",
       "      <th>NU_NOTA_CH</th>\n",
       "      <th>NU_NOTA_LC</th>\n",
       "      <th>NU_NOTA_REDACAO</th>\n",
       "      <th>NU_INSCRICAO</th>\n",
       "      <th>NU_NOTA_MT</th>\n",
       "    </tr>\n",
       "  </thead>\n",
       "  <tbody>\n",
       "    <tr>\n",
       "      <th>0</th>\n",
       "      <td>436.3</td>\n",
       "      <td>495.4</td>\n",
       "      <td>581.2</td>\n",
       "      <td>520.0</td>\n",
       "      <td>ed50e8aaa58e7a806c337585efee9ca41f1eb1ad</td>\n",
       "      <td>399.4</td>\n",
       "    </tr>\n",
       "    <tr>\n",
       "      <th>1</th>\n",
       "      <td>474.5</td>\n",
       "      <td>544.1</td>\n",
       "      <td>599.0</td>\n",
       "      <td>580.0</td>\n",
       "      <td>2c3acac4b33ec2b195d77e7c04a2d75727fad723</td>\n",
       "      <td>459.8</td>\n",
       "    </tr>\n",
       "    <tr>\n",
       "      <th>2</th>\n",
       "      <td>NaN</td>\n",
       "      <td>NaN</td>\n",
       "      <td>NaN</td>\n",
       "      <td>NaN</td>\n",
       "      <td>f4545f8ccb9ff5c8aad7d32951b3f251a26e6568</td>\n",
       "      <td>NaN</td>\n",
       "    </tr>\n",
       "    <tr>\n",
       "      <th>3</th>\n",
       "      <td>NaN</td>\n",
       "      <td>NaN</td>\n",
       "      <td>NaN</td>\n",
       "      <td>NaN</td>\n",
       "      <td>3d6ec248fef899c414e77f82d5c6d2bffbeaf7fe</td>\n",
       "      <td>NaN</td>\n",
       "    </tr>\n",
       "    <tr>\n",
       "      <th>4</th>\n",
       "      <td>NaN</td>\n",
       "      <td>NaN</td>\n",
       "      <td>NaN</td>\n",
       "      <td>NaN</td>\n",
       "      <td>bf896ac8d3ecadd6dba1dfbf50110afcbf5d3268</td>\n",
       "      <td>NaN</td>\n",
       "    </tr>\n",
       "  </tbody>\n",
       "</table>\n",
       "</div>"
      ],
      "text/plain": [
       "   NU_NOTA_CN  NU_NOTA_CH  NU_NOTA_LC  NU_NOTA_REDACAO  \\\n",
       "0       436.3       495.4       581.2            520.0   \n",
       "1       474.5       544.1       599.0            580.0   \n",
       "2         NaN         NaN         NaN              NaN   \n",
       "3         NaN         NaN         NaN              NaN   \n",
       "4         NaN         NaN         NaN              NaN   \n",
       "\n",
       "                               NU_INSCRICAO  NU_NOTA_MT  \n",
       "0  ed50e8aaa58e7a806c337585efee9ca41f1eb1ad       399.4  \n",
       "1  2c3acac4b33ec2b195d77e7c04a2d75727fad723       459.8  \n",
       "2  f4545f8ccb9ff5c8aad7d32951b3f251a26e6568         NaN  \n",
       "3  3d6ec248fef899c414e77f82d5c6d2bffbeaf7fe         NaN  \n",
       "4  bf896ac8d3ecadd6dba1dfbf50110afcbf5d3268         NaN  "
      ]
     },
     "execution_count": 252,
     "metadata": {},
     "output_type": "execute_result"
    }
   ],
   "source": [
    "base_train = base_train[columns] \n",
    "base_train.head()"
   ]
  },
  {
   "cell_type": "code",
   "execution_count": 253,
   "metadata": {},
   "outputs": [
    {
     "data": {
      "text/html": [
       "<div>\n",
       "<style scoped>\n",
       "    .dataframe tbody tr th:only-of-type {\n",
       "        vertical-align: middle;\n",
       "    }\n",
       "\n",
       "    .dataframe tbody tr th {\n",
       "        vertical-align: top;\n",
       "    }\n",
       "\n",
       "    .dataframe thead th {\n",
       "        text-align: right;\n",
       "    }\n",
       "</style>\n",
       "<table border=\"1\" class=\"dataframe\">\n",
       "  <thead>\n",
       "    <tr style=\"text-align: right;\">\n",
       "      <th></th>\n",
       "      <th>NU_NOTA_CN</th>\n",
       "      <th>NU_NOTA_CH</th>\n",
       "      <th>NU_NOTA_LC</th>\n",
       "      <th>NU_NOTA_REDACAO</th>\n",
       "    </tr>\n",
       "  </thead>\n",
       "  <tbody>\n",
       "    <tr>\n",
       "      <th>0</th>\n",
       "      <td>464.8</td>\n",
       "      <td>443.5</td>\n",
       "      <td>431.8</td>\n",
       "      <td>420.0</td>\n",
       "    </tr>\n",
       "    <tr>\n",
       "      <th>1</th>\n",
       "      <td>391.1</td>\n",
       "      <td>491.1</td>\n",
       "      <td>548.0</td>\n",
       "      <td>580.0</td>\n",
       "    </tr>\n",
       "    <tr>\n",
       "      <th>2</th>\n",
       "      <td>595.9</td>\n",
       "      <td>622.7</td>\n",
       "      <td>613.6</td>\n",
       "      <td>320.0</td>\n",
       "    </tr>\n",
       "    <tr>\n",
       "      <th>3</th>\n",
       "      <td>NaN</td>\n",
       "      <td>NaN</td>\n",
       "      <td>NaN</td>\n",
       "      <td>NaN</td>\n",
       "    </tr>\n",
       "    <tr>\n",
       "      <th>4</th>\n",
       "      <td>592.9</td>\n",
       "      <td>492.6</td>\n",
       "      <td>571.4</td>\n",
       "      <td>320.0</td>\n",
       "    </tr>\n",
       "  </tbody>\n",
       "</table>\n",
       "</div>"
      ],
      "text/plain": [
       "   NU_NOTA_CN  NU_NOTA_CH  NU_NOTA_LC  NU_NOTA_REDACAO\n",
       "0       464.8       443.5       431.8            420.0\n",
       "1       391.1       491.1       548.0            580.0\n",
       "2       595.9       622.7       613.6            320.0\n",
       "3         NaN         NaN         NaN              NaN\n",
       "4       592.9       492.6       571.4            320.0"
      ]
     },
     "execution_count": 253,
     "metadata": {},
     "output_type": "execute_result"
    }
   ],
   "source": [
    "base_test = base_test[columns[0:4]] \n",
    "base_test.head()"
   ]
  },
  {
   "cell_type": "code",
   "execution_count": 254,
   "metadata": {},
   "outputs": [
    {
     "data": {
      "text/html": [
       "<div>\n",
       "<style scoped>\n",
       "    .dataframe tbody tr th:only-of-type {\n",
       "        vertical-align: middle;\n",
       "    }\n",
       "\n",
       "    .dataframe tbody tr th {\n",
       "        vertical-align: top;\n",
       "    }\n",
       "\n",
       "    .dataframe thead th {\n",
       "        text-align: right;\n",
       "    }\n",
       "</style>\n",
       "<table border=\"1\" class=\"dataframe\">\n",
       "  <thead>\n",
       "    <tr style=\"text-align: right;\">\n",
       "      <th></th>\n",
       "      <th>NU_NOTA_CN</th>\n",
       "      <th>NU_NOTA_CH</th>\n",
       "      <th>NU_NOTA_LC</th>\n",
       "      <th>NU_NOTA_REDACAO</th>\n",
       "      <th>NU_INSCRICAO</th>\n",
       "    </tr>\n",
       "  </thead>\n",
       "  <tbody>\n",
       "    <tr>\n",
       "      <th>0</th>\n",
       "      <td>464.8</td>\n",
       "      <td>443.5</td>\n",
       "      <td>431.8</td>\n",
       "      <td>420.0</td>\n",
       "      <td>73ff9fcc02f0a99919906c942c2e1a1042cdcf98</td>\n",
       "    </tr>\n",
       "    <tr>\n",
       "      <th>1</th>\n",
       "      <td>391.1</td>\n",
       "      <td>491.1</td>\n",
       "      <td>548.0</td>\n",
       "      <td>580.0</td>\n",
       "      <td>71a95f9f1b91a82c65ad94abbdf9f54e6066f968</td>\n",
       "    </tr>\n",
       "    <tr>\n",
       "      <th>2</th>\n",
       "      <td>595.9</td>\n",
       "      <td>622.7</td>\n",
       "      <td>613.6</td>\n",
       "      <td>320.0</td>\n",
       "      <td>b38a03232f43b11c9d0788abaf060f7366053b6d</td>\n",
       "    </tr>\n",
       "    <tr>\n",
       "      <th>3</th>\n",
       "      <td>NaN</td>\n",
       "      <td>NaN</td>\n",
       "      <td>NaN</td>\n",
       "      <td>NaN</td>\n",
       "      <td>70b682d9a3636be23f6120fa9d6b164eb3c6002d</td>\n",
       "    </tr>\n",
       "    <tr>\n",
       "      <th>4</th>\n",
       "      <td>592.9</td>\n",
       "      <td>492.6</td>\n",
       "      <td>571.4</td>\n",
       "      <td>320.0</td>\n",
       "      <td>715494628a50142ce8cb17191cfe6d0f3cae0934</td>\n",
       "    </tr>\n",
       "  </tbody>\n",
       "</table>\n",
       "</div>"
      ],
      "text/plain": [
       "   NU_NOTA_CN  NU_NOTA_CH  NU_NOTA_LC  NU_NOTA_REDACAO  \\\n",
       "0       464.8       443.5       431.8            420.0   \n",
       "1       391.1       491.1       548.0            580.0   \n",
       "2       595.9       622.7       613.6            320.0   \n",
       "3         NaN         NaN         NaN              NaN   \n",
       "4       592.9       492.6       571.4            320.0   \n",
       "\n",
       "                               NU_INSCRICAO  \n",
       "0  73ff9fcc02f0a99919906c942c2e1a1042cdcf98  \n",
       "1  71a95f9f1b91a82c65ad94abbdf9f54e6066f968  \n",
       "2  b38a03232f43b11c9d0788abaf060f7366053b6d  \n",
       "3  70b682d9a3636be23f6120fa9d6b164eb3c6002d  \n",
       "4  715494628a50142ce8cb17191cfe6d0f3cae0934  "
      ]
     },
     "execution_count": 254,
     "metadata": {},
     "output_type": "execute_result"
    }
   ],
   "source": [
    "base_answer = base_answer[columns[0:5]] \n",
    "base_answer.head()"
   ]
  },
  {
   "cell_type": "code",
   "execution_count": 159,
   "metadata": {},
   "outputs": [
    {
     "data": {
      "image/png": "[encoded data removed]",
      "text/plain": [
       "<matplotlib.figure.Figure at 0x7f32732337f0>"
      ]
     },
     "metadata": {
      "needs_background": "light"
     },
     "output_type": "display_data"
    }
   ],
   "source": [
    "x0 = base_train['NU_NOTA_CN'].fillna(0)\n",
    "x1 = base_test['NU_NOTA_CN'].fillna(0)\n",
    "\n",
    "sns.distplot(x0)\n",
    "sns.distplot(x1)\n",
    "plt.legend(labels=['TRAIN','TEST']);"
   ]
  },
  {
   "cell_type": "code",
   "execution_count": 160,
   "metadata": {},
   "outputs": [
    {
     "data": {
      "image/png": "[encoded data removed]",
      "text/plain": [
       "<matplotlib.figure.Figure at 0x7f32734bfcf8>"
      ]
     },
     "metadata": {
      "needs_background": "light"
     },
     "output_type": "display_data"
    }
   ],
   "source": [
    "x0 = base_train['NU_NOTA_CH'].fillna(0)\n",
    "x1 = base_test['NU_NOTA_CH'].fillna(0)\n",
    "\n",
    "sns.distplot(x0)\n",
    "sns.distplot(x1)\n",
    "plt.legend(labels=['TRAIN','TEST']);"
   ]
  },
  {
   "cell_type": "code",
   "execution_count": 161,
   "metadata": {},
   "outputs": [
    {
     "data": {
      "image/png": "[encoded data removed]",
      "text/plain": [
       "<matplotlib.figure.Figure at 0x7f326f61c278>"
      ]
     },
     "metadata": {
      "needs_background": "light"
     },
     "output_type": "display_data"
    }
   ],
   "source": [
    "x0 = base_train['NU_NOTA_LC'].fillna(0)\n",
    "x1 = base_test['NU_NOTA_LC'].fillna(0)\n",
    "\n",
    "sns.distplot(x0)\n",
    "sns.distplot(x1)\n",
    "plt.legend(labels=['TRAIN','TEST']);"
   ]
  },
  {
   "cell_type": "code",
   "execution_count": 162,
   "metadata": {},
   "outputs": [
    {
     "data": {
      "image/png": "[encoded data removed]",
      "text/plain": [
       "<matplotlib.figure.Figure at 0x7f3273201e80>"
      ]
     },
     "metadata": {
      "needs_background": "light"
     },
     "output_type": "display_data"
    }
   ],
   "source": [
    "x0 = base_train['NU_NOTA_REDACAO'].fillna(0)\n",
    "x1 = base_test['NU_NOTA_REDACAO'].fillna(0)\n",
    "\n",
    "sns.distplot(x0)\n",
    "sns.distplot(x1)\n",
    "plt.legend(labels=['TRAIN','TEST']);"
   ]
  },
  {
   "cell_type": "code",
   "execution_count": 185,
   "metadata": {},
   "outputs": [
    {
     "data": {
      "text/plain": [
       "NU_NOTA_CN         3389\n",
       "NU_NOTA_CH         3389\n",
       "NU_NOTA_LC         3597\n",
       "NU_NOTA_REDACAO    3597\n",
       "NU_INSCRICAO          0\n",
       "NU_NOTA_MT         3597\n",
       "dtype: int64"
      ]
     },
     "execution_count": 185,
     "metadata": {},
     "output_type": "execute_result"
    }
   ],
   "source": [
    "base_train.isna().sum()"
   ]
  },
  {
   "cell_type": "code",
   "execution_count": 187,
   "metadata": {},
   "outputs": [
    {
     "data": {
      "text/plain": [
       "NU_NOTA_CN         1134\n",
       "NU_NOTA_CH         1134\n",
       "NU_NOTA_LC         1199\n",
       "NU_NOTA_REDACAO    1199\n",
       "dtype: int64"
      ]
     },
     "execution_count": 187,
     "metadata": {},
     "output_type": "execute_result"
    }
   ],
   "source": [
    "base_test.isna().sum()"
   ]
  },
  {
   "cell_type": "code",
   "execution_count": 189,
   "metadata": {},
   "outputs": [
    {
     "data": {
      "text/plain": [
       "NU_NOTA_CN         1134\n",
       "NU_NOTA_CH         1134\n",
       "NU_NOTA_LC         1199\n",
       "NU_NOTA_REDACAO    1199\n",
       "NU_INSCRICAO          0\n",
       "dtype: int64"
      ]
     },
     "execution_count": 189,
     "metadata": {},
     "output_type": "execute_result"
    }
   ],
   "source": [
    "base_answer.isna().sum()"
   ]
  },
  {
   "cell_type": "code",
   "execution_count": 255,
   "metadata": {},
   "outputs": [],
   "source": [
    "base_train = base_train.loc[\n",
    "    (base_train['NU_NOTA_CN'].notna() & base_train['NU_NOTA_CN'] != 0) &\n",
    "    (base_train['NU_NOTA_CH'].notna() & base_train['NU_NOTA_CH'] != 0) &\n",
    "    (base_train['NU_NOTA_LC'].notna() & base_train['NU_NOTA_LC'] != 0) &\n",
    "    (base_train['NU_NOTA_REDACAO'].notna() & base_train['NU_NOTA_REDACAO'] != 0)\n",
    "]\n",
    "\n",
    "base_test = base_test.loc[\n",
    "    (base_test['NU_NOTA_CN'].notna() & base_test['NU_NOTA_CN'] != 0) &\n",
    "    (base_test['NU_NOTA_CH'].notna() & base_test['NU_NOTA_CH'] != 0) &\n",
    "    (base_test['NU_NOTA_LC'].notna() & base_test['NU_NOTA_LC'] != 0) &\n",
    "    (base_test['NU_NOTA_REDACAO'].notna() & base_test['NU_NOTA_REDACAO'] != 0)\n",
    "]\n",
    "\n",
    "base_answer = base_answer.loc[\n",
    "    (base_answer['NU_INSCRICAO'].notna() & base_answer['NU_INSCRICAO'] != 0) &\n",
    "    (base_answer['NU_NOTA_CN'].notna() & base_answer['NU_NOTA_CN'] != 0) &\n",
    "    (base_answer['NU_NOTA_CH'].notna() & base_answer['NU_NOTA_CH'] != 0) &\n",
    "    (base_answer['NU_NOTA_LC'].notna() & base_answer['NU_NOTA_LC'] != 0) &\n",
    "    (base_answer['NU_NOTA_REDACAO'].notna() & base_answer['NU_NOTA_REDACAO'] != 0)    \n",
    "]"
   ]
  },
  {
   "cell_type": "code",
   "execution_count": 194,
   "metadata": {},
   "outputs": [
    {
     "data": {
      "text/plain": [
       "NU_NOTA_CN         0\n",
       "NU_NOTA_CH         0\n",
       "NU_NOTA_LC         0\n",
       "NU_NOTA_REDACAO    0\n",
       "NU_INSCRICAO       0\n",
       "NU_NOTA_MT         0\n",
       "dtype: int64"
      ]
     },
     "execution_count": 194,
     "metadata": {},
     "output_type": "execute_result"
    }
   ],
   "source": [
    "base_train.isna().sum()"
   ]
  },
  {
   "cell_type": "code",
   "execution_count": 195,
   "metadata": {},
   "outputs": [
    {
     "data": {
      "text/plain": [
       "NU_NOTA_CN         0\n",
       "NU_NOTA_CH         0\n",
       "NU_NOTA_LC         0\n",
       "NU_NOTA_REDACAO    0\n",
       "dtype: int64"
      ]
     },
     "execution_count": 195,
     "metadata": {},
     "output_type": "execute_result"
    }
   ],
   "source": [
    "base_test.isna().sum()"
   ]
  },
  {
   "cell_type": "code",
   "execution_count": 196,
   "metadata": {},
   "outputs": [
    {
     "data": {
      "text/plain": [
       "NU_NOTA_CN         0\n",
       "NU_NOTA_CH         0\n",
       "NU_NOTA_LC         0\n",
       "NU_NOTA_REDACAO    0\n",
       "dtype: int64"
      ]
     },
     "execution_count": 196,
     "metadata": {},
     "output_type": "execute_result"
    }
   ],
   "source": [
    "base_answer.isna().sum()"
   ]
  },
  {
   "cell_type": "code",
   "execution_count": 16,
   "metadata": {},
   "outputs": [
    {
     "data": {
      "image/png": "[encoded data removed]",
      "text/plain": [
       "<matplotlib.figure.Figure at 0x7f501702ee10>"
      ]
     },
     "metadata": {
      "needs_background": "light"
     },
     "output_type": "display_data"
    }
   ],
   "source": [
    "x0 = base_train['NU_NOTA_CN'].fillna(0)\n",
    "x1 = base_test['NU_NOTA_CN'].fillna(0)\n",
    "\n",
    "sns.distplot(x0)\n",
    "sns.distplot(x1)\n",
    "plt.legend(labels=['TRAIN','TEST']);"
   ]
  },
  {
   "cell_type": "code",
   "execution_count": 17,
   "metadata": {},
   "outputs": [
    {
     "data": {
      "image/png": "[encoded data removed]",
      "text/plain": [
       "<matplotlib.figure.Figure at 0x7f50172671d0>"
      ]
     },
     "metadata": {
      "needs_background": "light"
     },
     "output_type": "display_data"
    }
   ],
   "source": [
    "x0 = base_train['NU_NOTA_CH'].fillna(0)\n",
    "x1 = base_test['NU_NOTA_CH'].fillna(0)\n",
    "\n",
    "sns.distplot(x0)\n",
    "sns.distplot(x1)\n",
    "plt.legend(labels=['TRAIN','TEST']);"
   ]
  },
  {
   "cell_type": "code",
   "execution_count": 18,
   "metadata": {},
   "outputs": [
    {
     "data": {
      "image/png": "[encoded data removed]",
      "text/plain": [
       "<matplotlib.figure.Figure at 0x7f5017175400>"
      ]
     },
     "metadata": {
      "needs_background": "light"
     },
     "output_type": "display_data"
    }
   ],
   "source": [
    "x0 = base_train['NU_NOTA_LC'].fillna(0)\n",
    "x1 = base_test['NU_NOTA_LC'].fillna(0)\n",
    "\n",
    "sns.distplot(x0)\n",
    "sns.distplot(x1)\n",
    "plt.legend(labels=['TRAIN','TEST']);"
   ]
  },
  {
   "cell_type": "code",
   "execution_count": 19,
   "metadata": {},
   "outputs": [
    {
     "data": {
      "image/png": "[encoded data removed]",
      "text/plain": [
       "<matplotlib.figure.Figure at 0x7f5016d47438>"
      ]
     },
     "metadata": {
      "needs_background": "light"
     },
     "output_type": "display_data"
    }
   ],
   "source": [
    "x0 = base_train['NU_NOTA_REDACAO'].fillna(0)\n",
    "x1 = base_test['NU_NOTA_REDACAO'].fillna(0)\n",
    "\n",
    "sns.distplot(x0)\n",
    "sns.distplot(x1)\n",
    "plt.legend(labels=['TRAIN','TEST']);"
   ]
  },
  {
   "cell_type": "code",
   "execution_count": 208,
   "metadata": {},
   "outputs": [],
   "source": [
    "y_train = base_train['NU_NOTA_MT']\n",
    "x_train = base_train[columns[0:4]]\n",
    "x_test = base_test[columns[0:4]]"
   ]
  },
  {
   "cell_type": "code",
   "execution_count": 65,
   "metadata": {},
   "outputs": [],
   "source": [
    "sc = StandardScaler()  \n",
    "x_train = sc.fit_transform(x_train)  \n",
    "x_test = sc.transform(x_test)"
   ]
  },
  {
   "cell_type": "code",
   "execution_count": 66,
   "metadata": {},
   "outputs": [],
   "source": [
    "regressor = RandomForestRegressor( \n",
    "           criterion='mae', \n",
    "           max_depth=8,\n",
    "           max_leaf_nodes=None,\n",
    "           min_impurity_split=None,\n",
    "           min_samples_leaf=1,\n",
    "           min_samples_split=2,\n",
    "           min_weight_fraction_leaf=0.0,\n",
    "           n_estimators= 500,\n",
    "           n_jobs=-1,\n",
    "           random_state=0,\n",
    "           verbose=0,\n",
    "           warm_start=False\n",
    ")"
   ]
  },
  {
   "cell_type": "code",
   "execution_count": 268,
   "metadata": {},
   "outputs": [
    {
     "data": {
      "text/plain": [
       "RandomForestRegressor(bootstrap=True, criterion='mae', max_depth=8,\n",
       "           max_features='auto', max_leaf_nodes=None,\n",
       "           min_impurity_decrease=0.0, min_impurity_split=None,\n",
       "           min_samples_leaf=1, min_samples_split=2,\n",
       "           min_weight_fraction_leaf=0.0, n_estimators=500, n_jobs=-1,\n",
       "           oob_score=False, random_state=0, verbose=0, warm_start=False)"
      ]
     },
     "execution_count": 268,
     "metadata": {},
     "output_type": "execute_result"
    }
   ],
   "source": [
    "regressor.fit(x_train, y_train)"
   ]
  },
  {
   "cell_type": "code",
   "execution_count": 269,
   "metadata": {},
   "outputs": [],
   "source": [
    "y_pred_train = regressor.predict(x_train)\n",
    "y_pred_test = regressor.predict(x_test)"
   ]
  },
  {
   "cell_type": "code",
   "execution_count": 275,
   "metadata": {},
   "outputs": [
    {
     "data": {
      "text/plain": [
       "array([ 417.44,  442.91,  594.8 , ...,  445.52,  463.51,  689.78])"
      ]
     },
     "execution_count": 275,
     "metadata": {},
     "output_type": "execute_result"
    }
   ],
   "source": [
    "# base_answer = base_answer.drop(columns=columns[0:4])\n",
    "base_answer['NU_NOTA_MT'] = np.around(y_pred_test, 2)\n",
    "base_answer['NU_NOTA_MT'].unique()"
   ]
  },
  {
   "cell_type": "code",
   "execution_count": 276,
   "metadata": {},
   "outputs": [
    {
     "data": {
      "text/html": [
       "<div>\n",
       "<style scoped>\n",
       "    .dataframe tbody tr th:only-of-type {\n",
       "        vertical-align: middle;\n",
       "    }\n",
       "\n",
       "    .dataframe tbody tr th {\n",
       "        vertical-align: top;\n",
       "    }\n",
       "\n",
       "    .dataframe thead th {\n",
       "        text-align: right;\n",
       "    }\n",
       "</style>\n",
       "<table border=\"1\" class=\"dataframe\">\n",
       "  <thead>\n",
       "    <tr style=\"text-align: right;\">\n",
       "      <th></th>\n",
       "      <th>NU_INSCRICAO</th>\n",
       "      <th>NU_NOTA_MT</th>\n",
       "    </tr>\n",
       "  </thead>\n",
       "  <tbody>\n",
       "    <tr>\n",
       "      <th>0</th>\n",
       "      <td>73ff9fcc02f0a99919906c942c2e1a1042cdcf98</td>\n",
       "      <td>417.44</td>\n",
       "    </tr>\n",
       "    <tr>\n",
       "      <th>1</th>\n",
       "      <td>71a95f9f1b91a82c65ad94abbdf9f54e6066f968</td>\n",
       "      <td>442.91</td>\n",
       "    </tr>\n",
       "    <tr>\n",
       "      <th>2</th>\n",
       "      <td>b38a03232f43b11c9d0788abaf060f7366053b6d</td>\n",
       "      <td>594.80</td>\n",
       "    </tr>\n",
       "    <tr>\n",
       "      <th>4</th>\n",
       "      <td>715494628a50142ce8cb17191cfe6d0f3cae0934</td>\n",
       "      <td>518.38</td>\n",
       "    </tr>\n",
       "    <tr>\n",
       "      <th>5</th>\n",
       "      <td>e656d6bad65c93fb2880f1eba5037008c8e75774</td>\n",
       "      <td>466.99</td>\n",
       "    </tr>\n",
       "    <tr>\n",
       "      <th>6</th>\n",
       "      <td>465cd2a6907fb37d9d8ad3c065f0e2dabdba9b13</td>\n",
       "      <td>520.37</td>\n",
       "    </tr>\n",
       "    <tr>\n",
       "      <th>7</th>\n",
       "      <td>11539e86171bf07d3a36f09377d7f54ebcc8406a</td>\n",
       "      <td>429.59</td>\n",
       "    </tr>\n",
       "    <tr>\n",
       "      <th>8</th>\n",
       "      <td>043c544a2104aa8a9849f1a703a08d37a2f16839</td>\n",
       "      <td>481.15</td>\n",
       "    </tr>\n",
       "    <tr>\n",
       "      <th>9</th>\n",
       "      <td>76ba050e64ad100b856f0eaabd8f539d5c7dd185</td>\n",
       "      <td>440.45</td>\n",
       "    </tr>\n",
       "    <tr>\n",
       "      <th>12</th>\n",
       "      <td>940aede382ccb332fab15d413217695ec44ca765</td>\n",
       "      <td>446.59</td>\n",
       "    </tr>\n",
       "    <tr>\n",
       "      <th>13</th>\n",
       "      <td>9ad714b116da76d878dd399d187fccc2dd13dd63</td>\n",
       "      <td>581.74</td>\n",
       "    </tr>\n",
       "    <tr>\n",
       "      <th>14</th>\n",
       "      <td>dd34464a4d780b12a089347ad580418ac57a3055</td>\n",
       "      <td>530.66</td>\n",
       "    </tr>\n",
       "    <tr>\n",
       "      <th>15</th>\n",
       "      <td>f837a4cb05a5fd59d20138182f5e8c721eadd584</td>\n",
       "      <td>449.93</td>\n",
       "    </tr>\n",
       "    <tr>\n",
       "      <th>19</th>\n",
       "      <td>051c4f04fcbe385e1b3964aeb87f0a41d7f203d0</td>\n",
       "      <td>412.67</td>\n",
       "    </tr>\n",
       "    <tr>\n",
       "      <th>20</th>\n",
       "      <td>3d203727f27abd83b71732d88d8cb1cc099f363b</td>\n",
       "      <td>431.57</td>\n",
       "    </tr>\n",
       "    <tr>\n",
       "      <th>23</th>\n",
       "      <td>cbc301183dec912f3513ca766bf03dd565f3a38f</td>\n",
       "      <td>459.35</td>\n",
       "    </tr>\n",
       "    <tr>\n",
       "      <th>24</th>\n",
       "      <td>856aa14bcd11bd289a3b970aab0ce1b166f2c50f</td>\n",
       "      <td>667.59</td>\n",
       "    </tr>\n",
       "    <tr>\n",
       "      <th>25</th>\n",
       "      <td>11282da1ee78c8db45a041db4c744e33df489df0</td>\n",
       "      <td>430.38</td>\n",
       "    </tr>\n",
       "    <tr>\n",
       "      <th>26</th>\n",
       "      <td>03c67f683a415c2ea09b582248bd4cb08528c19d</td>\n",
       "      <td>593.87</td>\n",
       "    </tr>\n",
       "    <tr>\n",
       "      <th>27</th>\n",
       "      <td>046e844fb06a07ba30b41521f0065a8d9c6e5024</td>\n",
       "      <td>414.89</td>\n",
       "    </tr>\n",
       "    <tr>\n",
       "      <th>28</th>\n",
       "      <td>b296bc595a212a2f89a35470a4bdbb3bfc3f7f1a</td>\n",
       "      <td>422.86</td>\n",
       "    </tr>\n",
       "    <tr>\n",
       "      <th>31</th>\n",
       "      <td>f66c2e5ff22a95fa532e78c7c4bf1d145247211d</td>\n",
       "      <td>416.60</td>\n",
       "    </tr>\n",
       "    <tr>\n",
       "      <th>32</th>\n",
       "      <td>17f0dd5abd53dea135ffd020e8e8e0761b3a56aa</td>\n",
       "      <td>554.20</td>\n",
       "    </tr>\n",
       "    <tr>\n",
       "      <th>33</th>\n",
       "      <td>fbbd23fcfb37cf90b8c1f58eafcab62771f3cd71</td>\n",
       "      <td>477.40</td>\n",
       "    </tr>\n",
       "    <tr>\n",
       "      <th>34</th>\n",
       "      <td>a99286ac4fdce6f63b59569b2d8ed85a5c911ea3</td>\n",
       "      <td>504.11</td>\n",
       "    </tr>\n",
       "    <tr>\n",
       "      <th>35</th>\n",
       "      <td>f8d4f9a26c5f2023c33701a8888f9c02513a02c7</td>\n",
       "      <td>480.37</td>\n",
       "    </tr>\n",
       "    <tr>\n",
       "      <th>36</th>\n",
       "      <td>9785b7d9ca2e8dccfe60ecc0cd2abe1ff51906be</td>\n",
       "      <td>442.80</td>\n",
       "    </tr>\n",
       "    <tr>\n",
       "      <th>37</th>\n",
       "      <td>59bfa081e020013410d9f60f91813964ba749bb2</td>\n",
       "      <td>420.42</td>\n",
       "    </tr>\n",
       "    <tr>\n",
       "      <th>38</th>\n",
       "      <td>f5e069ee3bc95998464e8ff5da048b7f999921ed</td>\n",
       "      <td>432.26</td>\n",
       "    </tr>\n",
       "    <tr>\n",
       "      <th>39</th>\n",
       "      <td>e02240b518016d03a1b5bcc6d0a37b7a527ea93d</td>\n",
       "      <td>633.46</td>\n",
       "    </tr>\n",
       "    <tr>\n",
       "      <th>...</th>\n",
       "      <td>...</td>\n",
       "      <td>...</td>\n",
       "    </tr>\n",
       "    <tr>\n",
       "      <th>4540</th>\n",
       "      <td>92382544c9176dd9930d59c4248b7b893fdfa7f4</td>\n",
       "      <td>425.37</td>\n",
       "    </tr>\n",
       "    <tr>\n",
       "      <th>4542</th>\n",
       "      <td>831763db0caf0c727ed3e1a1540cabde652d00ad</td>\n",
       "      <td>443.34</td>\n",
       "    </tr>\n",
       "    <tr>\n",
       "      <th>4544</th>\n",
       "      <td>917582926a27e2e232add370a77cf5aa72dcc870</td>\n",
       "      <td>444.92</td>\n",
       "    </tr>\n",
       "    <tr>\n",
       "      <th>4545</th>\n",
       "      <td>8030c9c7b7571ae401e6d39aa7b5a776bdd470a8</td>\n",
       "      <td>418.80</td>\n",
       "    </tr>\n",
       "    <tr>\n",
       "      <th>4548</th>\n",
       "      <td>57988850e4cc572fb8e4196b26e5a85e254496d3</td>\n",
       "      <td>459.94</td>\n",
       "    </tr>\n",
       "    <tr>\n",
       "      <th>4550</th>\n",
       "      <td>0454eabd4bad46544b23444eecdbfbcebd820cfa</td>\n",
       "      <td>485.33</td>\n",
       "    </tr>\n",
       "    <tr>\n",
       "      <th>4551</th>\n",
       "      <td>0f5b8a58e91ca8da67fa59162e8a8cab7f135b09</td>\n",
       "      <td>419.30</td>\n",
       "    </tr>\n",
       "    <tr>\n",
       "      <th>4552</th>\n",
       "      <td>959b828c4bdc336dbb72eb834196503a81414f12</td>\n",
       "      <td>516.16</td>\n",
       "    </tr>\n",
       "    <tr>\n",
       "      <th>4553</th>\n",
       "      <td>dadc75b0b417846b97ec9da95ff2ba1506f5eeec</td>\n",
       "      <td>598.85</td>\n",
       "    </tr>\n",
       "    <tr>\n",
       "      <th>4554</th>\n",
       "      <td>c73b9eb4879667bb1a8ef5e7876f933980b653a3</td>\n",
       "      <td>463.19</td>\n",
       "    </tr>\n",
       "    <tr>\n",
       "      <th>4555</th>\n",
       "      <td>96834dfc86dd14898c0e353ecd54d35a5b796bde</td>\n",
       "      <td>419.95</td>\n",
       "    </tr>\n",
       "    <tr>\n",
       "      <th>4556</th>\n",
       "      <td>bcbae13219aa804747b812a123f97e0ab35a3bdb</td>\n",
       "      <td>428.77</td>\n",
       "    </tr>\n",
       "    <tr>\n",
       "      <th>4557</th>\n",
       "      <td>1994d3531fd8176c1b69853e94526973bb8f5d13</td>\n",
       "      <td>478.28</td>\n",
       "    </tr>\n",
       "    <tr>\n",
       "      <th>4558</th>\n",
       "      <td>95f6a0d42d9f75433846a6525c9d5788b36934ec</td>\n",
       "      <td>416.18</td>\n",
       "    </tr>\n",
       "    <tr>\n",
       "      <th>4559</th>\n",
       "      <td>1a2d6c5553902c5d6bd9564b563e8563f0aca091</td>\n",
       "      <td>446.51</td>\n",
       "    </tr>\n",
       "    <tr>\n",
       "      <th>4560</th>\n",
       "      <td>969078baa9152bbc7c745ad66ee6062cd13a6d95</td>\n",
       "      <td>445.72</td>\n",
       "    </tr>\n",
       "    <tr>\n",
       "      <th>4561</th>\n",
       "      <td>f26f3bce0c4c398dfe5071284c0a6d6b8a4882b5</td>\n",
       "      <td>440.27</td>\n",
       "    </tr>\n",
       "    <tr>\n",
       "      <th>4562</th>\n",
       "      <td>6d56eda9853f7a630bf41f4f77e0abe0a73fc88e</td>\n",
       "      <td>462.13</td>\n",
       "    </tr>\n",
       "    <tr>\n",
       "      <th>4563</th>\n",
       "      <td>022b5863816f22ed5ed27c9ab648918dc471bd68</td>\n",
       "      <td>429.87</td>\n",
       "    </tr>\n",
       "    <tr>\n",
       "      <th>4564</th>\n",
       "      <td>66896dc54ae32966134ba7d460c3e08bf71da3c8</td>\n",
       "      <td>509.70</td>\n",
       "    </tr>\n",
       "    <tr>\n",
       "      <th>4565</th>\n",
       "      <td>6b1b8019641256c73f8a19f9e7b80b65e6c613be</td>\n",
       "      <td>443.02</td>\n",
       "    </tr>\n",
       "    <tr>\n",
       "      <th>4566</th>\n",
       "      <td>ff617d0a9dcb32a68dc35b18ad222fc4a2fb21dc</td>\n",
       "      <td>456.45</td>\n",
       "    </tr>\n",
       "    <tr>\n",
       "      <th>4567</th>\n",
       "      <td>663c2dda7fa3e28f064f114939848136166bac3b</td>\n",
       "      <td>573.35</td>\n",
       "    </tr>\n",
       "    <tr>\n",
       "      <th>4568</th>\n",
       "      <td>c3fa7f85609c5ab50f3f5959950b12b0eb77f7b6</td>\n",
       "      <td>415.75</td>\n",
       "    </tr>\n",
       "    <tr>\n",
       "      <th>4569</th>\n",
       "      <td>4937ef37561c98c1717f5be331bf9ad3563df7d2</td>\n",
       "      <td>519.98</td>\n",
       "    </tr>\n",
       "    <tr>\n",
       "      <th>4570</th>\n",
       "      <td>13aaf6335f43cfc1b8baeac559324f20b2653724</td>\n",
       "      <td>513.17</td>\n",
       "    </tr>\n",
       "    <tr>\n",
       "      <th>4571</th>\n",
       "      <td>dac0f22429c7f8e3931d0abaf5dfc8e5c772a48b</td>\n",
       "      <td>445.52</td>\n",
       "    </tr>\n",
       "    <tr>\n",
       "      <th>4572</th>\n",
       "      <td>a75fa8770257e7c9368d059fe53d9ef431f4bdef</td>\n",
       "      <td>463.51</td>\n",
       "    </tr>\n",
       "    <tr>\n",
       "      <th>4573</th>\n",
       "      <td>655fa6306720ff16e825903b5422a46608a77545</td>\n",
       "      <td>689.78</td>\n",
       "    </tr>\n",
       "    <tr>\n",
       "      <th>4574</th>\n",
       "      <td>1f4bc3e3d56212d500625bfe8ac78ccff4362293</td>\n",
       "      <td>447.16</td>\n",
       "    </tr>\n",
       "  </tbody>\n",
       "</table>\n",
       "<p>3286 rows × 2 columns</p>\n",
       "</div>"
      ],
      "text/plain": [
       "                                  NU_INSCRICAO  NU_NOTA_MT\n",
       "0     73ff9fcc02f0a99919906c942c2e1a1042cdcf98      417.44\n",
       "1     71a95f9f1b91a82c65ad94abbdf9f54e6066f968      442.91\n",
       "2     b38a03232f43b11c9d0788abaf060f7366053b6d      594.80\n",
       "4     715494628a50142ce8cb17191cfe6d0f3cae0934      518.38\n",
       "5     e656d6bad65c93fb2880f1eba5037008c8e75774      466.99\n",
       "6     465cd2a6907fb37d9d8ad3c065f0e2dabdba9b13      520.37\n",
       "7     11539e86171bf07d3a36f09377d7f54ebcc8406a      429.59\n",
       "8     043c544a2104aa8a9849f1a703a08d37a2f16839      481.15\n",
       "9     76ba050e64ad100b856f0eaabd8f539d5c7dd185      440.45\n",
       "12    940aede382ccb332fab15d413217695ec44ca765      446.59\n",
       "13    9ad714b116da76d878dd399d187fccc2dd13dd63      581.74\n",
       "14    dd34464a4d780b12a089347ad580418ac57a3055      530.66\n",
       "15    f837a4cb05a5fd59d20138182f5e8c721eadd584      449.93\n",
       "19    051c4f04fcbe385e1b3964aeb87f0a41d7f203d0      412.67\n",
       "20    3d203727f27abd83b71732d88d8cb1cc099f363b      431.57\n",
       "23    cbc301183dec912f3513ca766bf03dd565f3a38f      459.35\n",
       "24    856aa14bcd11bd289a3b970aab0ce1b166f2c50f      667.59\n",
       "25    11282da1ee78c8db45a041db4c744e33df489df0      430.38\n",
       "26    03c67f683a415c2ea09b582248bd4cb08528c19d      593.87\n",
       "27    046e844fb06a07ba30b41521f0065a8d9c6e5024      414.89\n",
       "28    b296bc595a212a2f89a35470a4bdbb3bfc3f7f1a      422.86\n",
       "31    f66c2e5ff22a95fa532e78c7c4bf1d145247211d      416.60\n",
       "32    17f0dd5abd53dea135ffd020e8e8e0761b3a56aa      554.20\n",
       "33    fbbd23fcfb37cf90b8c1f58eafcab62771f3cd71      477.40\n",
       "34    a99286ac4fdce6f63b59569b2d8ed85a5c911ea3      504.11\n",
       "35    f8d4f9a26c5f2023c33701a8888f9c02513a02c7      480.37\n",
       "36    9785b7d9ca2e8dccfe60ecc0cd2abe1ff51906be      442.80\n",
       "37    59bfa081e020013410d9f60f91813964ba749bb2      420.42\n",
       "38    f5e069ee3bc95998464e8ff5da048b7f999921ed      432.26\n",
       "39    e02240b518016d03a1b5bcc6d0a37b7a527ea93d      633.46\n",
       "...                                        ...         ...\n",
       "4540  92382544c9176dd9930d59c4248b7b893fdfa7f4      425.37\n",
       "4542  831763db0caf0c727ed3e1a1540cabde652d00ad      443.34\n",
       "4544  917582926a27e2e232add370a77cf5aa72dcc870      444.92\n",
       "4545  8030c9c7b7571ae401e6d39aa7b5a776bdd470a8      418.80\n",
       "4548  57988850e4cc572fb8e4196b26e5a85e254496d3      459.94\n",
       "4550  0454eabd4bad46544b23444eecdbfbcebd820cfa      485.33\n",
       "4551  0f5b8a58e91ca8da67fa59162e8a8cab7f135b09      419.30\n",
       "4552  959b828c4bdc336dbb72eb834196503a81414f12      516.16\n",
       "4553  dadc75b0b417846b97ec9da95ff2ba1506f5eeec      598.85\n",
       "4554  c73b9eb4879667bb1a8ef5e7876f933980b653a3      463.19\n",
       "4555  96834dfc86dd14898c0e353ecd54d35a5b796bde      419.95\n",
       "4556  bcbae13219aa804747b812a123f97e0ab35a3bdb      428.77\n",
       "4557  1994d3531fd8176c1b69853e94526973bb8f5d13      478.28\n",
       "4558  95f6a0d42d9f75433846a6525c9d5788b36934ec      416.18\n",
       "4559  1a2d6c5553902c5d6bd9564b563e8563f0aca091      446.51\n",
       "4560  969078baa9152bbc7c745ad66ee6062cd13a6d95      445.72\n",
       "4561  f26f3bce0c4c398dfe5071284c0a6d6b8a4882b5      440.27\n",
       "4562  6d56eda9853f7a630bf41f4f77e0abe0a73fc88e      462.13\n",
       "4563  022b5863816f22ed5ed27c9ab648918dc471bd68      429.87\n",
       "4564  66896dc54ae32966134ba7d460c3e08bf71da3c8      509.70\n",
       "4565  6b1b8019641256c73f8a19f9e7b80b65e6c613be      443.02\n",
       "4566  ff617d0a9dcb32a68dc35b18ad222fc4a2fb21dc      456.45\n",
       "4567  663c2dda7fa3e28f064f114939848136166bac3b      573.35\n",
       "4568  c3fa7f85609c5ab50f3f5959950b12b0eb77f7b6      415.75\n",
       "4569  4937ef37561c98c1717f5be331bf9ad3563df7d2      519.98\n",
       "4570  13aaf6335f43cfc1b8baeac559324f20b2653724      513.17\n",
       "4571  dac0f22429c7f8e3931d0abaf5dfc8e5c772a48b      445.52\n",
       "4572  a75fa8770257e7c9368d059fe53d9ef431f4bdef      463.51\n",
       "4573  655fa6306720ff16e825903b5422a46608a77545      689.78\n",
       "4574  1f4bc3e3d56212d500625bfe8ac78ccff4362293      447.16\n",
       "\n",
       "[3286 rows x 2 columns]"
      ]
     },
     "execution_count": 276,
     "metadata": {},
     "output_type": "execute_result"
    }
   ],
   "source": [
    "base_answer.to_csv('answer.csv', index=False, header=True)\n",
    "base_answer\n"
   ]
  },
  {
   "cell_type": "code",
   "execution_count": 272,
   "metadata": {},
   "outputs": [
    {
     "name": "stdout",
     "output_type": "stream",
     "text": [
      "MAE: 53.33325234\n",
      "MSE: 4705.64008002\n",
      "RMSE: 68.59766818\n"
     ]
    }
   ],
   "source": [
    "\n",
    "print('MAE:', metrics.mean_absolute_error(y_train, y_pred_train).round(8)  )\n",
    "print('MSE:', metrics.mean_squared_error(y_train, y_pred_train).round(8) )  \n",
    "print('RMSE:', np.sqrt(metrics.mean_squared_error(y_train, y_pred_train)).round(8))"
   ]
  }
 ],
 "metadata": {
  "kernelspec": {
   "display_name": "Python 3",
   "language": "python",
   "name": "python3"
  },
  "language_info": {
   "codemirror_mode": {
    "name": "ipython",
    "version": 3
   },
   "file_extension": ".py",
   "mimetype": "text/x-python",
   "name": "python",
   "nbconvert_exporter": "python",
   "pygments_lexer": "ipython3",
   "version": "3.6.9"
  }
 },
 "nbformat": 4,
 "nbformat_minor": 2
}
